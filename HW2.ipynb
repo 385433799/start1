{
 "cells": [
  {
   "cell_type": "markdown",
   "metadata": {},
   "source": [
    "# Homework 2 - IEOR 224"
   ]
  },
  {
   "cell_type": "markdown",
   "metadata": {},
   "source": [
    "## Introduction\n",
    "This assignment contains two parts. In the first six questions, we use mean-variance optimization to construct a portfolio of sector ETFs of the S&P500. The remaining four questions are from the book. I uploaded screenshots of the questions to bCourses for your convenience.\n",
    "\n",
    "For formatting your textual answers, you can use math mode as well as other Markdown options. [More details on formatting are found here](https://jupyter-notebook.readthedocs.io/en/stable/examples/Notebook/Working%20With%20Markdown%20Cells.html)."
   ]
  },
  {
   "cell_type": "markdown",
   "metadata": {},
   "source": [
    "## Setup"
   ]
  },
  {
   "cell_type": "code",
   "execution_count": 1,
   "metadata": {},
   "outputs": [],
   "source": [
    "# DO NOT CHANGE. Autograder may fail otherwise.\n",
    "import pandas as pd\n",
    "import numpy as np\n",
    "import matplotlib.pyplot as plt\n",
    "from pandas_datareader import data as pdr\n",
    "import fix_yahoo_finance\n",
    "import datetime\n",
    "import os\n"
   ]
  },
  {
   "cell_type": "code",
   "execution_count": 2,
   "metadata": {},
   "outputs": [],
   "source": [
    "import cvxpy as cp"
   ]
  },
  {
   "cell_type": "code",
   "execution_count": 3,
   "metadata": {},
   "outputs": [],
   "source": [
    "# DO NOT CHANGE. Autograder may fail otherwise.\n",
    "try:\n",
    "    if os.environ['GRADE'] == 'TRUE':\n",
    "        print('Entering grade mode')\n",
    "        grade = True\n",
    "    else:\n",
    "        grade = False\n",
    "except KeyError:\n",
    "    grade = False"
   ]
  },
  {
   "cell_type": "markdown",
   "metadata": {},
   "source": [
    "## Data"
   ]
  },
  {
   "cell_type": "markdown",
   "metadata": {},
   "source": [
    "We will use the 10 S&P500 sector ETFs for analysis. Furthermore, we will assume that the risk free rate is 2.6%. This was the 1-year T-bill yield on January 2nd, 2019."
   ]
  },
  {
   "cell_type": "code",
   "execution_count": 4,
   "metadata": {},
   "outputs": [],
   "source": [
    "# SP500 sector ETFs\n",
    "tickers = ['XLB', 'XLE', 'XLF', 'XLI', 'XLK', 'XLP', 'XLRE', 'XLU', 'XLV', 'XLY']\n",
    "risk_free_rate = 0.026 # 1-year T-bill on 1 Jan 2019"
   ]
  },
  {
   "cell_type": "code",
   "execution_count": 5,
   "metadata": {},
   "outputs": [],
   "source": [
    "def get_adj_closing_prices(tickers, start_date, end_date):\n",
    "    all_prices = {}\n",
    "    for ticker in tickers:\n",
    "        prices = pdr.get_data_yahoo(ticker, \n",
    "            start=start_date,\n",
    "            end=end_date\n",
    "        )\n",
    "        all_prices[ticker] = prices[\"Adj Close\"]\n",
    "    \n",
    "    return pd.DataFrame(all_prices)"
   ]
  },
  {
   "cell_type": "code",
   "execution_count": 6,
   "metadata": {},
   "outputs": [],
   "source": [
    "if not grade:\n",
    "    # get daily price data 2016-2018\n",
    "    prices = get_adj_closing_prices(tickers, datetime.datetime(2015, 12, 31), datetime.datetime(2018, 12, 31))"
   ]
  },
  {
   "cell_type": "code",
   "execution_count": 7,
   "metadata": {},
   "outputs": [],
   "source": [
    "if not grade:\n",
    "    # compute daily returns\n",
    "    daily_returns = prices.pct_change().dropna()"
   ]
  },
  {
   "cell_type": "code",
   "execution_count": 8,
   "metadata": {},
   "outputs": [
    {
     "name": "stdout",
     "output_type": "stream",
     "text": [
      "                 XLB       XLE       XLF       XLI       XLK       XLP  \\\n",
      "Date                                                                     \n",
      "2016-01-04 -0.015661 -0.000332 -0.019303 -0.013394 -0.013075 -0.012676   \n",
      "2016-01-05 -0.000468  0.003814  0.003851  0.002677 -0.002602  0.006419   \n",
      "2016-01-06 -0.026217 -0.038493 -0.015345 -0.015446 -0.012334 -0.003388   \n",
      "2016-01-07 -0.027163 -0.024399 -0.028139 -0.027116 -0.029539 -0.012000   \n",
      "2016-01-08 -0.010131 -0.012857 -0.015590 -0.010153 -0.007919 -0.007692   \n",
      "\n",
      "                XLRE       XLU       XLV       XLY  \n",
      "Date                                                \n",
      "2016-01-04 -0.023217 -0.002079 -0.018048 -0.017144  \n",
      "2016-01-05  0.030302  0.007178  0.004807 -0.001302  \n",
      "2016-01-06 -0.009655 -0.001839 -0.008161 -0.009776  \n",
      "2016-01-07 -0.018340 -0.006679 -0.020287 -0.020534  \n",
      "2016-01-08 -0.013111 -0.000464 -0.015059 -0.010751  \n"
     ]
    }
   ],
   "source": [
    "if not grade:\n",
    "    print(daily_returns.head())"
   ]
  },
  {
   "cell_type": "markdown",
   "metadata": {},
   "source": [
    "## Question 1\n",
    "Complete function to compute the expected daily returns for each of the sector ETFs. You may assume that expected returns are given by the arithmetic average of the historical daily returns in the dataset."
   ]
  },
  {
   "cell_type": "code",
   "execution_count": 9,
   "metadata": {},
   "outputs": [],
   "source": [
    "def compute_expected_daily_returns(df):\n",
    "    \"\"\"Computes expected daily return for each security.\n",
    "    \n",
    "    Args:\n",
    "        df: (pd.DataFrame): DataFrame with daily returns for a set of securities. Each column corresponds to a security.\n",
    "                            Observations are indexed by date.\n",
    "    \n",
    "    Returns:\n",
    "        np.array with expected daily return for each security.\n",
    "    \"\"\"\n",
    "    daily_returns = np.mean(df,axis=0)\n",
    "    # TODO\n",
    "    return daily_returns"
   ]
  },
  {
   "cell_type": "code",
   "execution_count": 10,
   "metadata": {},
   "outputs": [],
   "source": [
    "if not grade:\n",
    "    exp_returns_daily = compute_expected_daily_returns(daily_returns)\n",
    "    # convert average daily returns to annualized returns\n",
    "    exp_returns_annual = np.power(1 + exp_returns_daily, 252) - 1"
   ]
  },
  {
   "cell_type": "code",
   "execution_count": 11,
   "metadata": {
    "scrolled": true
   },
   "outputs": [
    {
     "name": "stdout",
     "output_type": "stream",
     "text": [
      "Annualized Returns\n",
      "XLB   8.68%\n",
      "XLE   3.43%\n",
      "XLF   22.74%\n",
      "XLI   10.12%\n",
      "XLK   16.69%\n",
      "XLP   3.63%\n",
      "XLRE  4.71%\n",
      "XLU   11.66%\n",
      "XLV   9.10%\n",
      "XLY   10.97%\n"
     ]
    }
   ],
   "source": [
    "# print formatted expected returns\n",
    "if not grade:\n",
    "    print(\"Annualized Returns\")\n",
    "    for ticker, x in zip(tickers, exp_returns_annual):\n",
    "        print(\"%-4s % 5.2f%%\" % (ticker, x * 100))"
   ]
  },
  {
   "cell_type": "markdown",
   "metadata": {},
   "source": [
    "## Question 2\n",
    "Complete the function to compute the covariance matrix of the daily returns of the sector ETFs. You may use the historical daily returns to estimate the covariance matrix."
   ]
  },
  {
   "cell_type": "code",
   "execution_count": 12,
   "metadata": {},
   "outputs": [],
   "source": [
    "def compute_daily_covariance_matrix(df):\n",
    "    \"\"\"Computes covariance matrix of daily returns\n",
    "    \n",
    "    Args:\n",
    "        df: (pd.DataFrame): DataFrame with daily returns for a set of securities. Each column corresponds to a security.\n",
    "                            Observations are indexed by date.\n",
    "    \n",
    "    Returns:\n",
    "        np.array of size n x n where n is the number of securities.    \n",
    "    \n",
    "    \"\"\"\n",
    "    covs = np.cov(np.array(df.T))\n",
    "    return covs"
   ]
  },
  {
   "cell_type": "code",
   "execution_count": 13,
   "metadata": {},
   "outputs": [],
   "source": [
    "if not grade:\n",
    "    cov_daily = compute_daily_covariance_matrix(daily_returns)\n",
    "    cov_matrix_annual = cov_daily * 252 # Annualize: multiply with number of trading days in a year"
   ]
  },
  {
   "cell_type": "code",
   "execution_count": 14,
   "metadata": {
    "scrolled": true
   },
   "outputs": [
    {
     "name": "stdout",
     "output_type": "stream",
     "text": [
      "Annualized Covariance Matrix\n",
      "           XLB    XLE    XLF    XLI    XLK    XLP   XLRE    XLU    XLV    XLY\n",
      "     ------------------------------------------------------------------------\n",
      "XLB  |  0.0264 0.0231 0.0207 0.0205 0.0193 0.0092 0.0099 0.0033 0.0148 0.0173\n",
      "XLE  |  0.0231 0.0426 0.0210 0.0196 0.0185 0.0085 0.0092 0.0036 0.0146 0.0170\n",
      "XLF  |  0.0207 0.0210 0.0621 0.0210 0.0189 0.0081 0.0093 0.0012 0.0158 0.0178\n",
      "XLI  |  0.0205 0.0196 0.0210 0.0221 0.0191 0.0092 0.0092 0.0034 0.0150 0.0172\n",
      "XLK  |  0.0193 0.0185 0.0189 0.0191 0.0295 0.0102 0.0109 0.0044 0.0177 0.0214\n",
      "XLP  |  0.0092 0.0085 0.0081 0.0092 0.0102 0.0136 0.0103 0.0090 0.0089 0.0094\n",
      "XLRE |  0.0099 0.0092 0.0093 0.0092 0.0109 0.0103 0.0220 0.0119 0.0086 0.0102\n",
      "XLU  |  0.0033 0.0036 0.0012 0.0034 0.0044 0.0090 0.0119 0.0191 0.0039 0.0033\n",
      "XLV  |  0.0148 0.0146 0.0158 0.0150 0.0177 0.0089 0.0086 0.0039 0.0205 0.0147\n",
      "XLY  |  0.0173 0.0170 0.0178 0.0172 0.0214 0.0094 0.0102 0.0033 0.0147 0.0216\n"
     ]
    }
   ],
   "source": [
    "# print formatted covariance matrix\n",
    "if not grade:\n",
    "    print(\"Annualized Covariance Matrix\")\n",
    "    print(' ' * 7, end=\"\")\n",
    "    for tick in tickers:\n",
    "        print(\"% 7s\" % tick, end='')\n",
    "    print('\\n', end=\"\")\n",
    "    print(' ' * 5, end=\"\")\n",
    "    print('-' * 72)\n",
    "    for i, row_ticker in enumerate(tickers):\n",
    "        print('%-4s | ' % row_ticker, end='')\n",
    "        for j, col_ticker in enumerate(tickers):\n",
    "            print(\"% 6.4f\" % cov_matrix_annual[i,j], end='')\n",
    "        print('\\n', end='')"
   ]
  },
  {
   "cell_type": "markdown",
   "metadata": {},
   "source": [
    "## Question 3\n",
    "Complete the following three functions to compute the expected return, the variance, and the standard deviation of a portfolio given the assets' expected return and standard deviation and the weights of the assets. "
   ]
  },
  {
   "cell_type": "code",
   "execution_count": 15,
   "metadata": {},
   "outputs": [],
   "source": [
    "def compute_portfolio_expected_return(return_vector, weights):\n",
    "    \"\"\"Computes expected return of a portfolio given the asset returns and the asset weights in the portfolio.\"\"\"\n",
    "    # TODO\n",
    "    return return_vector.T.dot(weights)\n",
    "\n",
    "def compute_portfolio_variance(covariance_matrix, weights):\n",
    "    \"\"\"Computes the variance of a portfolio given the asset covariance matrix and the asset weights in the portfolio.\"\"\"\n",
    "    # TODO\n",
    "    return weights.T.dot(covariance_matrix).dot(weights)\n",
    "\n",
    "def compute_portfolio_std(covariance_matrix, weights):\n",
    "    \"\"\"Computes the standard deviation of a portfolio given the asset covariance matrix and the asset weights in the portfolio.\"\"\"\n",
    "    # TODO\n",
    "    return np.sqrt(compute_portfolio_variance(covariance_matrix, weights))"
   ]
  },
  {
   "cell_type": "markdown",
   "metadata": {},
   "source": [
    "## Question 4\n",
    "Complete the `min_risk_portfolio` function to construct a portfolio with an expected return equal to the `target_return` and the smallest possible variance. The portfolio should be fully invested and no shorting is allowed. We use this function in the `efficient_frontier` function to compute the efficient frontier."
   ]
  },
  {
   "cell_type": "code",
   "execution_count": 23,
   "metadata": {},
   "outputs": [],
   "source": [
    " def min_risk_portfolio(expected_returns, covariance_matrix, target_return):\n",
    "    \"\"\"Computes the weights of a minimum variance portfolio for a given expected return.\n",
    "    The portfolio is fully vested (weights sum to 1) and no shorting is allowed.\n",
    "    \n",
    "    Args:\n",
    "        expected_returns (np.array): Expected returns for n assets.\n",
    "        covariance_matrix (np.array): n x n Covariance matrix of asset returns.\n",
    "        target_return (float): Expected return target for the portfolio\n",
    "        \n",
    "    Returns:\n",
    "        np.array of length n with the weights of each asset in the portfolio\n",
    "        OR\n",
    "        None if no feasible portfolio exists.\n",
    "    \"\"\"\n",
    "    n = expected_returns.shape[0]\n",
    "    \n",
    "    w = cp.Variable(n)                         # Portfolio allocation vector\n",
    "    ret = expected_returns.T * w\n",
    "    risk = cp.quad_form(w, covariance_matrix)\n",
    "    target_ret = cp.Parameter()\n",
    "    target_ret.value = target_return\n",
    "    prob = cp.Problem(cp.Minimize(risk),          # Restricting to long-only portfolio\n",
    "                   [ret == target_ret, # match target_return\n",
    "                   cp.sum(w) == 1, # sum of weights in portfolios sum to 1.\n",
    "                   w >= 0])\n",
    "    prob.solve()\n",
    "    \n",
    "    if prob.status == 'optimal':\n",
    "        return w.value\n",
    "    else:\n",
    "        return None"
   ]
  },
  {
   "cell_type": "code",
   "execution_count": 26,
   "metadata": {},
   "outputs": [],
   "source": [
    "def efficient_frontier(expected_returns, covariance_matrix):\n",
    "    \"\"\"Construct efficient frontier portfolios by a line sweep of target returns.\n",
    "    \n",
    "    Args:\n",
    "        expected_returns (np.array): Expected returns for n assets.\n",
    "        covariance_matrix (np.array): n x n Covariance matrix of asset returns.\n",
    "        \n",
    "    Returns:\n",
    "        List of np.arrays. Each numpy array in the list represents a portfolio on the efficient frontier.\n",
    "    \n",
    "    \"\"\"\n",
    "    min_return = np.min(expected_returns)\n",
    "    max_return = np.max(expected_returns)\n",
    "    \n",
    "    target_returns = np.linspace(min_return,max_return, num=200)\n",
    "    \n",
    "    portfolio_weights = []\n",
    "    \n",
    "    for tr in target_returns:\n",
    "        result = min_risk_portfolio(expected_returns, covariance_matrix, tr)\n",
    "        # only add results if optimization was successful\n",
    "        if result is not None:\n",
    "            weights = result\n",
    "            portfolio_weights.append(weights)\n",
    "           \n",
    "    return portfolio_weights"
   ]
  },
  {
   "cell_type": "code",
   "execution_count": 27,
   "metadata": {},
   "outputs": [
    {
     "ename": "Exception",
     "evalue": "Cannot evaluate the truth value of a constraint or chain constraints, e.g., 1 >= x >= 0.",
     "output_type": "error",
     "traceback": [
      "\u001b[0;31m---------------------------------------------------------------------------\u001b[0m",
      "\u001b[0;31mException\u001b[0m                                 Traceback (most recent call last)",
      "\u001b[0;32m<ipython-input-27-34f686f8a1af>\u001b[0m in \u001b[0;36m<module>\u001b[0;34m()\u001b[0m\n\u001b[1;32m      1\u001b[0m \u001b[0;32mif\u001b[0m \u001b[0;32mnot\u001b[0m \u001b[0mgrade\u001b[0m\u001b[0;34m:\u001b[0m\u001b[0;34m\u001b[0m\u001b[0;34m\u001b[0m\u001b[0m\n\u001b[0;32m----> 2\u001b[0;31m     \u001b[0mportfolio_weights\u001b[0m \u001b[0;34m=\u001b[0m \u001b[0mefficient_frontier\u001b[0m\u001b[0;34m(\u001b[0m\u001b[0mexp_returns_annual\u001b[0m\u001b[0;34m,\u001b[0m \u001b[0mcov_matrix_annual\u001b[0m\u001b[0;34m)\u001b[0m\u001b[0;34m\u001b[0m\u001b[0;34m\u001b[0m\u001b[0m\n\u001b[0m",
      "\u001b[0;32m<ipython-input-26-18d37fd2c130>\u001b[0m in \u001b[0;36mefficient_frontier\u001b[0;34m(expected_returns, covariance_matrix)\u001b[0m\n\u001b[1;32m     18\u001b[0m \u001b[0;34m\u001b[0m\u001b[0m\n\u001b[1;32m     19\u001b[0m     \u001b[0;32mfor\u001b[0m \u001b[0mtr\u001b[0m \u001b[0;32min\u001b[0m \u001b[0mtarget_returns\u001b[0m\u001b[0;34m:\u001b[0m\u001b[0;34m\u001b[0m\u001b[0;34m\u001b[0m\u001b[0m\n\u001b[0;32m---> 20\u001b[0;31m         \u001b[0mresult\u001b[0m \u001b[0;34m=\u001b[0m \u001b[0mmin_risk_portfolio\u001b[0m\u001b[0;34m(\u001b[0m\u001b[0mexpected_returns\u001b[0m\u001b[0;34m,\u001b[0m \u001b[0mcovariance_matrix\u001b[0m\u001b[0;34m,\u001b[0m \u001b[0mtr\u001b[0m\u001b[0;34m)\u001b[0m\u001b[0;34m\u001b[0m\u001b[0;34m\u001b[0m\u001b[0m\n\u001b[0m\u001b[1;32m     21\u001b[0m         \u001b[0;31m# only add results if optimization was successful\u001b[0m\u001b[0;34m\u001b[0m\u001b[0;34m\u001b[0m\u001b[0;34m\u001b[0m\u001b[0m\n\u001b[1;32m     22\u001b[0m         \u001b[0;32mif\u001b[0m \u001b[0mresult\u001b[0m \u001b[0;32mis\u001b[0m \u001b[0;32mnot\u001b[0m \u001b[0;32mNone\u001b[0m\u001b[0;34m:\u001b[0m\u001b[0;34m\u001b[0m\u001b[0;34m\u001b[0m\u001b[0m\n",
      "\u001b[0;32m<ipython-input-23-b4fc65d33db0>\u001b[0m in \u001b[0;36mmin_risk_portfolio\u001b[0;34m(expected_returns, covariance_matrix, target_return)\u001b[0m\n\u001b[1;32m     21\u001b[0m    \u001b[0mtarget_ret\u001b[0m\u001b[0;34m.\u001b[0m\u001b[0mvalue\u001b[0m \u001b[0;34m=\u001b[0m \u001b[0mtarget_return\u001b[0m\u001b[0;34m\u001b[0m\u001b[0;34m\u001b[0m\u001b[0m\n\u001b[1;32m     22\u001b[0m    prob = cp.Problem(cp.Minimize(risk),          # Restricting to long-only portfolio\n\u001b[0;32m---> 23\u001b[0;31m                   [ret == target_ret, # match target_return\n\u001b[0m\u001b[1;32m     24\u001b[0m                   \u001b[0mcp\u001b[0m\u001b[0;34m.\u001b[0m\u001b[0msum\u001b[0m\u001b[0;34m(\u001b[0m\u001b[0mw\u001b[0m\u001b[0;34m)\u001b[0m \u001b[0;34m==\u001b[0m \u001b[0;36m1\u001b[0m\u001b[0;34m,\u001b[0m \u001b[0;31m# sum of weights in portfolios sum to 1.\u001b[0m\u001b[0;34m\u001b[0m\u001b[0;34m\u001b[0m\u001b[0m\n\u001b[1;32m     25\u001b[0m                   w >= 0])\n",
      "\u001b[0;32m/anaconda3/lib/python3.7/site-packages/pandas/core/ops.py\u001b[0m in \u001b[0;36mwrapper\u001b[0;34m(self, other, axis)\u001b[0m\n\u001b[1;32m   1281\u001b[0m \u001b[0;34m\u001b[0m\u001b[0m\n\u001b[1;32m   1282\u001b[0m             \u001b[0;32mwith\u001b[0m \u001b[0mnp\u001b[0m\u001b[0;34m.\u001b[0m\u001b[0merrstate\u001b[0m\u001b[0;34m(\u001b[0m\u001b[0mall\u001b[0m\u001b[0;34m=\u001b[0m\u001b[0;34m'ignore'\u001b[0m\u001b[0;34m)\u001b[0m\u001b[0;34m:\u001b[0m\u001b[0;34m\u001b[0m\u001b[0;34m\u001b[0m\u001b[0m\n\u001b[0;32m-> 1283\u001b[0;31m                 \u001b[0mres\u001b[0m \u001b[0;34m=\u001b[0m \u001b[0mna_op\u001b[0m\u001b[0;34m(\u001b[0m\u001b[0mvalues\u001b[0m\u001b[0;34m,\u001b[0m \u001b[0mother\u001b[0m\u001b[0;34m)\u001b[0m\u001b[0;34m\u001b[0m\u001b[0;34m\u001b[0m\u001b[0m\n\u001b[0m\u001b[1;32m   1284\u001b[0m             \u001b[0;32mif\u001b[0m \u001b[0mis_scalar\u001b[0m\u001b[0;34m(\u001b[0m\u001b[0mres\u001b[0m\u001b[0;34m)\u001b[0m\u001b[0;34m:\u001b[0m\u001b[0;34m\u001b[0m\u001b[0;34m\u001b[0m\u001b[0m\n\u001b[1;32m   1285\u001b[0m                 raise TypeError('Could not compare {typ} type with Series'\n",
      "\u001b[0;32m/anaconda3/lib/python3.7/site-packages/pandas/core/ops.py\u001b[0m in \u001b[0;36mna_op\u001b[0;34m(x, y)\u001b[0m\n\u001b[1;32m   1141\u001b[0m \u001b[0;34m\u001b[0m\u001b[0m\n\u001b[1;32m   1142\u001b[0m         \u001b[0;32melif\u001b[0m \u001b[0mis_object_dtype\u001b[0m\u001b[0;34m(\u001b[0m\u001b[0mx\u001b[0m\u001b[0;34m.\u001b[0m\u001b[0mdtype\u001b[0m\u001b[0;34m)\u001b[0m\u001b[0;34m:\u001b[0m\u001b[0;34m\u001b[0m\u001b[0;34m\u001b[0m\u001b[0m\n\u001b[0;32m-> 1143\u001b[0;31m             \u001b[0mresult\u001b[0m \u001b[0;34m=\u001b[0m \u001b[0m_comp_method_OBJECT_ARRAY\u001b[0m\u001b[0;34m(\u001b[0m\u001b[0mop\u001b[0m\u001b[0;34m,\u001b[0m \u001b[0mx\u001b[0m\u001b[0;34m,\u001b[0m \u001b[0my\u001b[0m\u001b[0;34m)\u001b[0m\u001b[0;34m\u001b[0m\u001b[0;34m\u001b[0m\u001b[0m\n\u001b[0m\u001b[1;32m   1144\u001b[0m \u001b[0;34m\u001b[0m\u001b[0m\n\u001b[1;32m   1145\u001b[0m         \u001b[0;32melif\u001b[0m \u001b[0mis_datetimelike_v_numeric\u001b[0m\u001b[0;34m(\u001b[0m\u001b[0mx\u001b[0m\u001b[0;34m,\u001b[0m \u001b[0my\u001b[0m\u001b[0;34m)\u001b[0m\u001b[0;34m:\u001b[0m\u001b[0;34m\u001b[0m\u001b[0;34m\u001b[0m\u001b[0m\n",
      "\u001b[0;32m/anaconda3/lib/python3.7/site-packages/pandas/core/ops.py\u001b[0m in \u001b[0;36m_comp_method_OBJECT_ARRAY\u001b[0;34m(op, x, y)\u001b[0m\n\u001b[1;32m   1120\u001b[0m         \u001b[0mresult\u001b[0m \u001b[0;34m=\u001b[0m \u001b[0mlibops\u001b[0m\u001b[0;34m.\u001b[0m\u001b[0mvec_compare\u001b[0m\u001b[0;34m(\u001b[0m\u001b[0mx\u001b[0m\u001b[0;34m,\u001b[0m \u001b[0my\u001b[0m\u001b[0;34m,\u001b[0m \u001b[0mop\u001b[0m\u001b[0;34m)\u001b[0m\u001b[0;34m\u001b[0m\u001b[0;34m\u001b[0m\u001b[0m\n\u001b[1;32m   1121\u001b[0m     \u001b[0;32melse\u001b[0m\u001b[0;34m:\u001b[0m\u001b[0;34m\u001b[0m\u001b[0;34m\u001b[0m\u001b[0m\n\u001b[0;32m-> 1122\u001b[0;31m         \u001b[0mresult\u001b[0m \u001b[0;34m=\u001b[0m \u001b[0mlibops\u001b[0m\u001b[0;34m.\u001b[0m\u001b[0mscalar_compare\u001b[0m\u001b[0;34m(\u001b[0m\u001b[0mx\u001b[0m\u001b[0;34m,\u001b[0m \u001b[0my\u001b[0m\u001b[0;34m,\u001b[0m \u001b[0mop\u001b[0m\u001b[0;34m)\u001b[0m\u001b[0;34m\u001b[0m\u001b[0;34m\u001b[0m\u001b[0m\n\u001b[0m\u001b[1;32m   1123\u001b[0m     \u001b[0;32mreturn\u001b[0m \u001b[0mresult\u001b[0m\u001b[0;34m\u001b[0m\u001b[0;34m\u001b[0m\u001b[0m\n\u001b[1;32m   1124\u001b[0m \u001b[0;34m\u001b[0m\u001b[0m\n",
      "\u001b[0;32mpandas/_libs/ops.pyx\u001b[0m in \u001b[0;36mpandas._libs.ops.scalar_compare\u001b[0;34m()\u001b[0m\n",
      "\u001b[0;32m/anaconda3/lib/python3.7/site-packages/cvxpy/constraints/constraint.py\u001b[0m in \u001b[0;36m__bool__\u001b[0;34m(self)\u001b[0m\n\u001b[1;32m    215\u001b[0m         \u001b[0mRaising\u001b[0m \u001b[0man\u001b[0m \u001b[0merror\u001b[0m \u001b[0mhere\u001b[0m \u001b[0mprevents\u001b[0m \u001b[0mwriting\u001b[0m \u001b[0mchained\u001b[0m \u001b[0mconstraints\u001b[0m\u001b[0;34m.\u001b[0m\u001b[0;34m\u001b[0m\u001b[0;34m\u001b[0m\u001b[0m\n\u001b[1;32m    216\u001b[0m         \"\"\"\n\u001b[0;32m--> 217\u001b[0;31m         \u001b[0;32mreturn\u001b[0m \u001b[0mself\u001b[0m\u001b[0;34m.\u001b[0m\u001b[0m_chain_constraints\u001b[0m\u001b[0;34m(\u001b[0m\u001b[0;34m)\u001b[0m\u001b[0;34m\u001b[0m\u001b[0;34m\u001b[0m\u001b[0m\n\u001b[0m\u001b[1;32m    218\u001b[0m \u001b[0;34m\u001b[0m\u001b[0m\n\u001b[1;32m    219\u001b[0m     \u001b[0;31m# The value of the dual variable.\u001b[0m\u001b[0;34m\u001b[0m\u001b[0;34m\u001b[0m\u001b[0;34m\u001b[0m\u001b[0m\n",
      "\u001b[0;32m/anaconda3/lib/python3.7/site-packages/cvxpy/constraints/constraint.py\u001b[0m in \u001b[0;36m_chain_constraints\u001b[0;34m(self)\u001b[0m\n\u001b[1;32m    203\u001b[0m         \"\"\"\n\u001b[1;32m    204\u001b[0m         raise Exception(\n\u001b[0;32m--> 205\u001b[0;31m             (\"Cannot evaluate the truth value of a constraint or \"\n\u001b[0m\u001b[1;32m    206\u001b[0m              \"chain constraints, e.g., 1 >= x >= 0.\")\n\u001b[1;32m    207\u001b[0m         )\n",
      "\u001b[0;31mException\u001b[0m: Cannot evaluate the truth value of a constraint or chain constraints, e.g., 1 >= x >= 0."
     ]
    }
   ],
   "source": [
    "if not grade:\n",
    "    portfolio_weights = efficient_frontier(exp_returns_annual, cov_matrix_annual)"
   ]
  },
  {
   "cell_type": "markdown",
   "metadata": {},
   "source": [
    "## Question 5\n",
    "Complete the function to determine the minimum variance portfolio among a list of portfolios."
   ]
  },
  {
   "cell_type": "code",
   "execution_count": 20,
   "metadata": {},
   "outputs": [],
   "source": [
    "def min_variance_portfolio(covariance_matrix, portfolio_weights):\n",
    "    \"\"\"Select minimum variance portfolio from a list of portfolios.\n",
    "    \n",
    "    Args:\n",
    "        covariance_matrix (np.array): n x n Covariance matrix of asset returns.\n",
    "        portfolio_weights (list of np.array): Each numpy array in the list represents a portfolio.\n",
    "        \n",
    "    Returns:\n",
    "        np.array with weights of portfolio that has the smallest variance.\n",
    "    \"\"\"\n",
    "    portfolio_weights1 = []\n",
    "    portfolio_means = []\n",
    "    portfolio_var = []\n",
    "    for weights in portfolio_weights:\n",
    "        port_var=compute_portfolio_variance(covariance_matrix, weights)\n",
    "        portfolio_weights1.append(weights)\n",
    "        portfolio_var.append(port_var)\n",
    "    \n",
    "    index = np.argmin(portfolio_var)\n",
    "    weights = portfolio_weights1[index]\n",
    "    return weights"
   ]
  },
  {
   "cell_type": "code",
   "execution_count": 21,
   "metadata": {},
   "outputs": [
    {
     "ename": "NameError",
     "evalue": "name 'portfolio_weights' is not defined",
     "output_type": "error",
     "traceback": [
      "\u001b[0;31m---------------------------------------------------------------------------\u001b[0m",
      "\u001b[0;31mNameError\u001b[0m                                 Traceback (most recent call last)",
      "\u001b[0;32m<ipython-input-21-7915e4e2d3ac>\u001b[0m in \u001b[0;36m<module>\u001b[0;34m()\u001b[0m\n\u001b[1;32m      1\u001b[0m \u001b[0;32mif\u001b[0m \u001b[0;32mnot\u001b[0m \u001b[0mgrade\u001b[0m\u001b[0;34m:\u001b[0m\u001b[0;34m\u001b[0m\u001b[0;34m\u001b[0m\u001b[0m\n\u001b[0;32m----> 2\u001b[0;31m     \u001b[0mmin_variance_weights\u001b[0m \u001b[0;34m=\u001b[0m \u001b[0mmin_variance_portfolio\u001b[0m\u001b[0;34m(\u001b[0m\u001b[0mcov_matrix_annual\u001b[0m\u001b[0;34m,\u001b[0m \u001b[0mportfolio_weights\u001b[0m\u001b[0;34m)\u001b[0m\u001b[0;34m\u001b[0m\u001b[0;34m\u001b[0m\u001b[0m\n\u001b[0m\u001b[1;32m      3\u001b[0m     \u001b[0mmin_variance_expected_return\u001b[0m \u001b[0;34m=\u001b[0m \u001b[0mcompute_portfolio_expected_return\u001b[0m\u001b[0;34m(\u001b[0m\u001b[0mexp_returns_annual\u001b[0m\u001b[0;34m,\u001b[0m \u001b[0mmin_variance_weights\u001b[0m\u001b[0;34m)\u001b[0m\u001b[0;34m\u001b[0m\u001b[0;34m\u001b[0m\u001b[0m\n\u001b[1;32m      4\u001b[0m     \u001b[0mmin_variance_std\u001b[0m \u001b[0;34m=\u001b[0m \u001b[0mcompute_portfolio_std\u001b[0m\u001b[0;34m(\u001b[0m\u001b[0mcov_matrix_annual\u001b[0m\u001b[0;34m,\u001b[0m \u001b[0mmin_variance_weights\u001b[0m\u001b[0;34m)\u001b[0m\u001b[0;34m\u001b[0m\u001b[0;34m\u001b[0m\u001b[0m\n",
      "\u001b[0;31mNameError\u001b[0m: name 'portfolio_weights' is not defined"
     ]
    }
   ],
   "source": [
    "if not grade:\n",
    "    min_variance_weights = min_variance_portfolio(cov_matrix_annual, portfolio_weights)\n",
    "    min_variance_expected_return = compute_portfolio_expected_return(exp_returns_annual, min_variance_weights)\n",
    "    min_variance_std = compute_portfolio_std(cov_matrix_annual, min_variance_weights)"
   ]
  },
  {
   "cell_type": "code",
   "execution_count": 47,
   "metadata": {
    "scrolled": false
   },
   "outputs": [
    {
     "ename": "NameError",
     "evalue": "name 'min_variance_weights' is not defined",
     "output_type": "error",
     "traceback": [
      "\u001b[0;31m---------------------------------------------------------------------------\u001b[0m",
      "\u001b[0;31mNameError\u001b[0m                                 Traceback (most recent call last)",
      "\u001b[0;32m<ipython-input-47-414dee1b7fee>\u001b[0m in \u001b[0;36m<module>\u001b[0;34m()\u001b[0m\n\u001b[1;32m      1\u001b[0m \u001b[0;32mif\u001b[0m \u001b[0;32mnot\u001b[0m \u001b[0mgrade\u001b[0m\u001b[0;34m:\u001b[0m\u001b[0;34m\u001b[0m\u001b[0m\n\u001b[0;32m----> 2\u001b[0;31m     \u001b[0;32mfor\u001b[0m \u001b[0mtick\u001b[0m\u001b[0;34m,\u001b[0m \u001b[0mx\u001b[0m \u001b[0;32min\u001b[0m \u001b[0mzip\u001b[0m\u001b[0;34m(\u001b[0m\u001b[0mtickers\u001b[0m\u001b[0;34m,\u001b[0m \u001b[0mmin_variance_weights\u001b[0m\u001b[0;34m)\u001b[0m\u001b[0;34m:\u001b[0m\u001b[0;34m\u001b[0m\u001b[0m\n\u001b[0m\u001b[1;32m      3\u001b[0m         \u001b[0mprint\u001b[0m\u001b[0;34m(\u001b[0m\u001b[0;34m'Weight %-4s %5.2f%%'\u001b[0m \u001b[0;34m%\u001b[0m \u001b[0;34m(\u001b[0m\u001b[0mtick\u001b[0m\u001b[0;34m,\u001b[0m \u001b[0;34m(\u001b[0m\u001b[0mx\u001b[0m \u001b[0;34m+\u001b[0m \u001b[0;36m1e-10\u001b[0m\u001b[0;34m)\u001b[0m \u001b[0;34m*\u001b[0m \u001b[0;36m100\u001b[0m \u001b[0;34m)\u001b[0m\u001b[0;34m)\u001b[0m\u001b[0;34m\u001b[0m\u001b[0m\n",
      "\u001b[0;31mNameError\u001b[0m: name 'min_variance_weights' is not defined"
     ]
    }
   ],
   "source": [
    "if not grade:\n",
    "    for tick, x in zip(tickers, min_variance_weights):\n",
    "        print('Weight %-4s %5.2f%%' % (tick, (x + 1e-10) * 100 ))"
   ]
  },
  {
   "cell_type": "markdown",
   "metadata": {},
   "source": [
    "## Question 6"
   ]
  },
  {
   "cell_type": "code",
   "execution_count": 64,
   "metadata": {},
   "outputs": [],
   "source": [
    "def max_sharpe_portfolio(expected_returns, covariance_matrix, risk_free_rate, portfolio_weights):\n",
    "    \"\"\"Select max sharpe portfolio from a list of portfolios.\n",
    "    \n",
    "    Args:\n",
    "        expected_returns (np.array): Expected returns for n assets.\n",
    "        covariance_matrix (np.array): n x n Covariance matrix of asset returns.\n",
    "        risk_free_rate (float): Risk free rate.\n",
    "        portfolio_weights (list of np.array): Each numpy array in the list represents a portfolio.\n",
    "        \n",
    "    Returns:\n",
    "        np.array with weights of portfolio that maximizes sharpe ratio.  \n",
    "    \"\"\"\n",
    "    portfolio_weights2 = []\n",
    "    portfolio_ratio2 = []\n",
    "    for weights in portfolio_weights:\n",
    "        port_mean=compute_portfolio_expected_return(expected_returns, weights)\n",
    "        port_std=compute_portfolio_std(covariance_matrix, weights)\n",
    "        sharpe_ratios = (port_mean-risk_free_rate)/ port_std\n",
    "        portfolio_weights2.append(weights)\n",
    "        portfolio_ratio2.append(sharpe_ratios)\n",
    "    \n",
    "    index = np.argmax(portfolio_ratio2)\n",
    "    weights = portfolio_weights2[index]\n",
    "    ratio = portfolio_ratio2[index]\n",
    "    # TODO\n",
    "    return ratio,weights"
   ]
  },
  {
   "cell_type": "code",
   "execution_count": 65,
   "metadata": {},
   "outputs": [
    {
     "ename": "NameError",
     "evalue": "name 'portfolio_weights' is not defined",
     "output_type": "error",
     "traceback": [
      "\u001b[0;31m---------------------------------------------------------------------------\u001b[0m",
      "\u001b[0;31mNameError\u001b[0m                                 Traceback (most recent call last)",
      "\u001b[0;32m<ipython-input-65-db00c5795b99>\u001b[0m in \u001b[0;36m<module>\u001b[0;34m()\u001b[0m\n\u001b[1;32m      1\u001b[0m \u001b[0;32mif\u001b[0m \u001b[0;32mnot\u001b[0m \u001b[0mgrade\u001b[0m\u001b[0;34m:\u001b[0m\u001b[0;34m\u001b[0m\u001b[0m\n\u001b[0;32m----> 2\u001b[0;31m     \u001b[0mmax_sharpe_ratio\u001b[0m\u001b[0;34m,\u001b[0m \u001b[0mmax_sharpe_weights\u001b[0m \u001b[0;34m=\u001b[0m \u001b[0mmax_sharpe_portfolio\u001b[0m\u001b[0;34m(\u001b[0m\u001b[0mexp_returns_annual\u001b[0m\u001b[0;34m,\u001b[0m \u001b[0mcov_matrix_annual\u001b[0m\u001b[0;34m,\u001b[0m \u001b[0mrisk_free_rate\u001b[0m\u001b[0;34m,\u001b[0m \u001b[0mportfolio_weights\u001b[0m\u001b[0;34m)\u001b[0m\u001b[0;34m\u001b[0m\u001b[0m\n\u001b[0m\u001b[1;32m      3\u001b[0m     \u001b[0mmax_sharpe_expected_return\u001b[0m \u001b[0;34m=\u001b[0m \u001b[0mcompute_portfolio_expected_return\u001b[0m\u001b[0;34m(\u001b[0m\u001b[0mexp_returns_annual\u001b[0m\u001b[0;34m,\u001b[0m \u001b[0mmax_sharpe_weights\u001b[0m\u001b[0;34m)\u001b[0m\u001b[0;34m\u001b[0m\u001b[0m\n\u001b[1;32m      4\u001b[0m     \u001b[0mmax_sharpe_std\u001b[0m \u001b[0;34m=\u001b[0m \u001b[0mcompute_portfolio_std\u001b[0m\u001b[0;34m(\u001b[0m\u001b[0mcov_matrix_annual\u001b[0m\u001b[0;34m,\u001b[0m \u001b[0mmax_sharpe_weights\u001b[0m\u001b[0;34m)\u001b[0m\u001b[0;34m\u001b[0m\u001b[0m\n",
      "\u001b[0;31mNameError\u001b[0m: name 'portfolio_weights' is not defined"
     ]
    }
   ],
   "source": [
    "if not grade:\n",
    "    max_sharpe_ratio, max_sharpe_weights = max_sharpe_portfolio(exp_returns_annual, cov_matrix_annual, risk_free_rate, portfolio_weights)\n",
    "    max_sharpe_expected_return = compute_portfolio_expected_return(exp_returns_annual, max_sharpe_weights)\n",
    "    max_sharpe_std = compute_portfolio_std(cov_matrix_annual, max_sharpe_weights)"
   ]
  },
  {
   "cell_type": "code",
   "execution_count": null,
   "metadata": {},
   "outputs": [],
   "source": [
    "if not grade:\n",
    "    for tick, x in zip(tickers, max_sharpe_weights):\n",
    "         print('Weight %-4s %5.2f%%' % (tick, (x + 1e-10) * 100 ))"
   ]
  },
  {
   "cell_type": "markdown",
   "metadata": {},
   "source": [
    "## Plot of portfolios"
   ]
  },
  {
   "cell_type": "code",
   "execution_count": null,
   "metadata": {},
   "outputs": [],
   "source": [
    "asset_std = np.sqrt(np.diag(cov_matrix_annual))"
   ]
  },
  {
   "cell_type": "code",
   "execution_count": 48,
   "metadata": {
    "scrolled": true
   },
   "outputs": [
    {
     "ename": "NameError",
     "evalue": "name 'portfolio_weights' is not defined",
     "output_type": "error",
     "traceback": [
      "\u001b[0;31m---------------------------------------------------------------------------\u001b[0m",
      "\u001b[0;31mNameError\u001b[0m                                 Traceback (most recent call last)",
      "\u001b[0;32m<ipython-input-48-377710b3bcd0>\u001b[0m in \u001b[0;36m<module>\u001b[0;34m()\u001b[0m\n\u001b[1;32m      3\u001b[0m \u001b[0;31m# Compute missing returns and stds.\u001b[0m\u001b[0;34m\u001b[0m\u001b[0;34m\u001b[0m\u001b[0m\n\u001b[1;32m      4\u001b[0m \u001b[0masset_stds\u001b[0m \u001b[0;34m=\u001b[0m \u001b[0mnp\u001b[0m\u001b[0;34m.\u001b[0m\u001b[0msqrt\u001b[0m\u001b[0;34m(\u001b[0m\u001b[0mnp\u001b[0m\u001b[0;34m.\u001b[0m\u001b[0mdiag\u001b[0m\u001b[0;34m(\u001b[0m\u001b[0mcov_matrix_annual\u001b[0m\u001b[0;34m)\u001b[0m\u001b[0;34m)\u001b[0m\u001b[0;34m\u001b[0m\u001b[0m\n\u001b[0;32m----> 5\u001b[0;31m \u001b[0mportfolio_stds\u001b[0m \u001b[0;34m=\u001b[0m \u001b[0;34m[\u001b[0m\u001b[0mcompute_portfolio_std\u001b[0m\u001b[0;34m(\u001b[0m\u001b[0mcov_matrix_annual\u001b[0m\u001b[0;34m,\u001b[0m \u001b[0mweights\u001b[0m\u001b[0;34m)\u001b[0m \u001b[0;32mfor\u001b[0m \u001b[0mweights\u001b[0m \u001b[0;32min\u001b[0m \u001b[0mportfolio_weights\u001b[0m\u001b[0;34m]\u001b[0m\u001b[0;34m\u001b[0m\u001b[0m\n\u001b[0m\u001b[1;32m      6\u001b[0m \u001b[0mportfolio_returns\u001b[0m \u001b[0;34m=\u001b[0m \u001b[0;34m[\u001b[0m\u001b[0mcompute_portfolio_expected_return\u001b[0m\u001b[0;34m(\u001b[0m\u001b[0mexp_returns_annual\u001b[0m\u001b[0;34m,\u001b[0m \u001b[0mweights\u001b[0m\u001b[0;34m)\u001b[0m \u001b[0;32mfor\u001b[0m \u001b[0mweights\u001b[0m \u001b[0;32min\u001b[0m \u001b[0mportfolio_weights\u001b[0m\u001b[0;34m]\u001b[0m\u001b[0;34m\u001b[0m\u001b[0m\n\u001b[1;32m      7\u001b[0m \u001b[0;34m\u001b[0m\u001b[0m\n",
      "\u001b[0;31mNameError\u001b[0m: name 'portfolio_weights' is not defined"
     ]
    },
    {
     "data": {
      "text/plain": [
       "<Figure size 540x288 with 0 Axes>"
      ]
     },
     "metadata": {},
     "output_type": "display_data"
    }
   ],
   "source": [
    "fig = plt.figure(figsize=(7.5, 4))\n",
    "\n",
    "# Compute missing returns and stds.\n",
    "asset_stds = np.sqrt(np.diag(cov_matrix_annual))\n",
    "portfolio_stds = [compute_portfolio_std(cov_matrix_annual, weights) for weights in portfolio_weights]\n",
    "portfolio_returns = [compute_portfolio_expected_return(exp_returns_annual, weights) for weights in portfolio_weights]\n",
    "\n",
    "# Plot Capital Market Line\n",
    "x_range = np.linspace(0, 0.3)\n",
    "plt.plot(x_range, risk_free_rate + max_sharpe_ratio * x_range , c='cyan', label=\"CML\")\n",
    "\n",
    "# Plot portfolios\n",
    "plt.scatter(portfolio_stds, portfolio_returns, label='Efficient frontier', s=4)\n",
    "plt.scatter(asset_stds, exp_returns_annual, label='Assets')\n",
    "plt.scatter([0],[risk_free_rate], label='Risk free asset')\n",
    "plt.scatter([min_variance_std],[min_variance_expected_return], label='Min Variance')\n",
    "plt.scatter([max_sharpe_std],[max_sharpe_expected_return], label='Max Sharpe')\n",
    "\n",
    "plt.ylim([0, 0.3])\n",
    "plt.xlim([0, 0.3])\n",
    "\n",
    "for i, txt in enumerate(tickers):\n",
    "    plt.annotate(txt, (asset_std[i], exp_returns_annual[i]))\n",
    "\n",
    "plt.xlabel('Annualized standard deviation')\n",
    "plt.ylabel('Annualized expected return')\n",
    "plt.legend()"
   ]
  },
  {
   "cell_type": "markdown",
   "metadata": {},
   "source": [
    "## Question 7\n",
    "Answer question 7.12 from the Investments book."
   ]
  },
  {
   "cell_type": "markdown",
   "metadata": {},
   "source": [
    "**Answer here**\n",
    "Since the correlation of A and B = -1, riskless hedge is possible. In addition, because the standard deviation of B is twice as that of A, the amount of stock A should be as twice as amount of stock B to best lower the risk. Therefore, risk-free rate = 10%×(2/3)+15%×(1/3) = 11.67%"
   ]
  },
  {
   "cell_type": "markdown",
   "metadata": {},
   "source": [
    "## Question 8\n",
    "Answer question 8.6 from the Investments book."
   ]
  },
  {
   "cell_type": "markdown",
   "metadata": {},
   "source": [
    "### Part a)"
   ]
  },
  {
   "cell_type": "markdown",
   "metadata": {},
   "source": [
    "**Answer here**\n",
    "\n",
    "stock A: (0.8^2)×(0.22^2) + 0.3^2 =  0.120976 and standard deviation = 34.78%\n",
    "\n",
    "stock B: (1.2^2)×(0.22^2) + 0.4^2  = 0.229696 and standard deviation = 47.93%"
   ]
  },
  {
   "cell_type": "markdown",
   "metadata": {},
   "source": [
    "### Part b)"
   ]
  },
  {
   "cell_type": "markdown",
   "metadata": {},
   "source": [
    "**Answer here**\n",
    "\n",
    "Both the expected return and beta is the weighted average of the expected return and beta of individual serurities. \n",
    "\n",
    "expected return = 13%×0.3 + 18%×0.45 + 8%×0.25 = 14%\n",
    "\n",
    "beta = 0.8×0.3 +1.2×0.45 + 0 = 0.78\n",
    "\n",
    "nonsystematic standard deviation = square root of (0.3^2×0.3^2 + 0.45^2×0.4^2 + 0.25^2×0 ) = 20.12%\n",
    "\n",
    "portfolio standard deviation = square root of (0.78^2×0.22^2 + 0.2012^2) = 26.447%"
   ]
  },
  {
   "cell_type": "markdown",
   "metadata": {},
   "source": [
    "## Question 9\n",
    "Answer question 9.23 from the Investments book."
   ]
  },
  {
   "cell_type": "markdown",
   "metadata": {},
   "source": [
    "### Part a)"
   ]
  },
  {
   "cell_type": "markdown",
   "metadata": {},
   "source": [
    "**Answer here**\n",
    "\n",
    "According to CAPM, E(p) = 5% + 0.8×(15%-5%) = 13% and 14% - 13% = 1% > 0\n",
    "\n",
    "As a result, we should invest in this fund and the fund's alpha is 1%"
   ]
  },
  {
   "cell_type": "markdown",
   "metadata": {},
   "source": [
    "### Part b)"
   ]
  },
  {
   "cell_type": "markdown",
   "metadata": {},
   "source": [
    "**Answer here**\n",
    "\n",
    "The passive portfolio with the same beta as the fund should be invested 80% in the market-index portfolio and 20% in the money market account.  For this portfolio: \n",
    "\n",
    "E(rp) = (0.8 × 15%) + (0.2 × 5%) = 13%\n",
    "\n",
    "14% − 13% = 1% = alpha "
   ]
  },
  {
   "cell_type": "markdown",
   "metadata": {},
   "source": [
    "## Question 10\n",
    "Answer question 24.12 from the Investments book."
   ]
  },
  {
   "cell_type": "markdown",
   "metadata": {},
   "source": [
    "### Part a)"
   ]
  },
  {
   "cell_type": "markdown",
   "metadata": {},
   "source": [
    "**Answer here**\n",
    "\n",
    "Total value added of all the manager's decisions this period:\n",
    "\n",
    "(0.3×0.2 + 0.1×0.15 + 0.4×0.1 + 0.2×0.05)- (0.15×0.12 + 0.3×0.15 + 0.45×0.14 + 0.1×0.12) = -0.013\n"
   ]
  },
  {
   "cell_type": "markdown",
   "metadata": {},
   "source": [
    "### Part b)"
   ]
  },
  {
   "cell_type": "markdown",
   "metadata": {},
   "source": [
    "**Answer here**\n",
    "\n",
    "Value added by her country allocation decisions:\n",
    "\n",
    "(0.3-0.15)×0.12 + (0.1-0.3)×0.15 + (0.4-0.45)×0.14 + (0.2-0.1)×0.12 = - 0.007"
   ]
  },
  {
   "cell_type": "markdown",
   "metadata": {},
   "source": [
    "### Part c)"
   ]
  },
  {
   "cell_type": "markdown",
   "metadata": {},
   "source": [
    "**Answer here**\n",
    "\n",
    "value added from her stock selection ability within countries:\n",
    "\n",
    "0.3×(0.2-0.12) + 0.1×(0.15-0.15) + 0.4×(0.1-0.14) + 0.2×(0.05- 0.12) = -0.006"
   ]
  },
  {
   "cell_type": "markdown",
   "metadata": {},
   "source": [
    "### Part d)"
   ]
  },
  {
   "cell_type": "markdown",
   "metadata": {},
   "source": [
    "**Answer here**\n",
    "\n",
    "We can confirm it by proving that\n",
    "\n",
    "(value added from her stock selection ability within countries) + (Value added by her country allocation decisions) = (Total value added of all the manager's decisions this period)\n",
    "\n",
    "-0.007 - 0.006 = -0.013 "
   ]
  },
  {
   "cell_type": "markdown",
   "metadata": {},
   "source": [
    "## Submission instructions\n",
    "There are **two parts** to submit on Gradescope, a PDF of your notebook and its .py file.\n",
    "1. Remove or comment out any cells or code that you added other than the original functions and code. Autograding may fail without this step.\n",
    "2. Download your Jupyter Notebook as a PDF. With your Notebook pulled up in a browser, open the print menu for your browser (File > Print). Change the printer to \"Save to PDF\", and print (this saves your Notebook as a PDF file). Check that all of your answers are still there.\n",
    "3. Next, download your Juypter Notebook as a .py file. In the menu bar, choose File > Download As > Python (.py). Note: Chrome may warn that downloading the file is dangerous. You can safely ignore the warning in this case.\n",
    "4. Rename the downloaded file to `HW2.py`. **IMPORTANT!**\n",
    "5. Go to the IEOR224 class in Gradescope and click on Homework 1 PDF.\n",
    "6. Upload your **PDF** and tag the pages corresponding to each question and your answer. \n",
    "7. Go back to the IEOR 224 class on Gradescope  and click on Homework 1 Python. Upload the `HW2.py` file.\n",
    "\n",
    "**Note**: You may submit as many times as you like before the submission deadline, and we will use your last submission for grading."
   ]
  },
  {
   "cell_type": "code",
   "execution_count": null,
   "metadata": {},
   "outputs": [],
   "source": []
  }
 ],
 "metadata": {
  "kernelspec": {
   "display_name": "Python 2",
   "language": "python",
   "name": "python2"
  },
  "language_info": {
   "codemirror_mode": {
    "name": "ipython",
    "version": 2
   },
   "file_extension": ".py",
   "mimetype": "text/x-python",
   "name": "python",
   "nbconvert_exporter": "python",
   "pygments_lexer": "ipython2",
   "version": "2.7.15"
  },
  "toc": {
   "base_numbering": 1,
   "nav_menu": {},
   "number_sections": false,
   "sideBar": true,
   "skip_h1_title": false,
   "title_cell": "Table of Contents",
   "title_sidebar": "Contents",
   "toc_cell": false,
   "toc_position": {
    "height": "calc(100% - 180px)",
    "left": "10px",
    "top": "150px",
    "width": "384px"
   },
   "toc_section_display": true,
   "toc_window_display": false
  }
 },
 "nbformat": 4,
 "nbformat_minor": 2
}
